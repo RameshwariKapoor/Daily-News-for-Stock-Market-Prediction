{
 "cells": [
  {
   "cell_type": "markdown",
   "metadata": {},
   "source": [
    "# Imports"
   ]
  },
  {
   "cell_type": "code",
   "execution_count": 49,
   "metadata": {},
   "outputs": [],
   "source": [
    "import pandas as pd\n",
    "import numpy as np\n",
    "import nltk\n",
    "import re\n",
    "import string\n",
    "# nltk.download(\"all\")\n",
    "from nltk.stem import WordNetLemmatizer\n",
    "from nltk.corpus import stopwords\n",
    "from tqdm import tqdm\n",
    "from sklearn.feature_extraction.text import CountVectorizer, TfidfVectorizer\n",
    "from gensim.models import Word2Vec\n",
    "from sklearn.model_selection import train_test_split\n",
    "from sklearn.ensemble import RandomForestClassifier\n",
    "from sklearn.tree import DecisionTreeClassifier\n",
    "from sklearn.naive_bayes import MultinomialNB\n",
    "from sklearn.svm import SVC\n",
    "from sklearn.linear_model import LogisticRegression\n",
    "import keras\n",
    "from tensorflow.keras.preprocessing.text import Tokenizer\n",
    "from tensorflow.keras.preprocessing.sequence import pad_sequences\n",
    "from tensorflow.keras.models import Sequential\n",
    "from tensorflow.keras.layers import Embedding, LSTM, Dense\n",
    "from sklearn.metrics import accuracy_score\n",
    "from joblib import Parallel, delayed\n",
    "from sklearn.utils.class_weight import compute_class_weight"
   ]
  },
  {
   "cell_type": "markdown",
   "metadata": {},
   "source": [
    "# Reading the Dataset"
   ]
  },
  {
   "cell_type": "code",
   "execution_count": 2,
   "metadata": {},
   "outputs": [
    {
     "data": {
      "text/html": [
       "<div>\n",
       "<style scoped>\n",
       "    .dataframe tbody tr th:only-of-type {\n",
       "        vertical-align: middle;\n",
       "    }\n",
       "\n",
       "    .dataframe tbody tr th {\n",
       "        vertical-align: top;\n",
       "    }\n",
       "\n",
       "    .dataframe thead th {\n",
       "        text-align: right;\n",
       "    }\n",
       "</style>\n",
       "<table border=\"1\" class=\"dataframe\">\n",
       "  <thead>\n",
       "    <tr style=\"text-align: right;\">\n",
       "      <th></th>\n",
       "      <th>Date</th>\n",
       "      <th>Label</th>\n",
       "      <th>Top1</th>\n",
       "      <th>Top2</th>\n",
       "      <th>Top3</th>\n",
       "      <th>Top4</th>\n",
       "      <th>Top5</th>\n",
       "      <th>Top6</th>\n",
       "      <th>Top7</th>\n",
       "      <th>Top8</th>\n",
       "      <th>...</th>\n",
       "      <th>Top16</th>\n",
       "      <th>Top17</th>\n",
       "      <th>Top18</th>\n",
       "      <th>Top19</th>\n",
       "      <th>Top20</th>\n",
       "      <th>Top21</th>\n",
       "      <th>Top22</th>\n",
       "      <th>Top23</th>\n",
       "      <th>Top24</th>\n",
       "      <th>Top25</th>\n",
       "    </tr>\n",
       "  </thead>\n",
       "  <tbody>\n",
       "    <tr>\n",
       "      <th>0</th>\n",
       "      <td>2008-08-08</td>\n",
       "      <td>0</td>\n",
       "      <td>b\"Georgia 'downs two Russian warplanes' as cou...</td>\n",
       "      <td>b'BREAKING: Musharraf to be impeached.'</td>\n",
       "      <td>b'Russia Today: Columns of troops roll into So...</td>\n",
       "      <td>b'Russian tanks are moving towards the capital...</td>\n",
       "      <td>b\"Afghan children raped with 'impunity,' U.N. ...</td>\n",
       "      <td>b'150 Russian tanks have entered South Ossetia...</td>\n",
       "      <td>b\"Breaking: Georgia invades South Ossetia, Rus...</td>\n",
       "      <td>b\"The 'enemy combatent' trials are nothing but...</td>\n",
       "      <td>...</td>\n",
       "      <td>b'Georgia Invades South Ossetia - if Russia ge...</td>\n",
       "      <td>b'Al-Qaeda Faces Islamist Backlash'</td>\n",
       "      <td>b'Condoleezza Rice: \"The US would not act to p...</td>\n",
       "      <td>b'This is a busy day:  The European Union has ...</td>\n",
       "      <td>b\"Georgia will withdraw 1,000 soldiers from Ir...</td>\n",
       "      <td>b'Why the Pentagon Thinks Attacking Iran is a ...</td>\n",
       "      <td>b'Caucasus in crisis: Georgia invades South Os...</td>\n",
       "      <td>b'Indian shoe manufactory  - And again in a se...</td>\n",
       "      <td>b'Visitors Suffering from Mental Illnesses Ban...</td>\n",
       "      <td>b\"No Help for Mexico's Kidnapping Surge\"</td>\n",
       "    </tr>\n",
       "    <tr>\n",
       "      <th>1</th>\n",
       "      <td>2008-08-11</td>\n",
       "      <td>1</td>\n",
       "      <td>b'Why wont America and Nato help us? If they w...</td>\n",
       "      <td>b'Bush puts foot down on Georgian conflict'</td>\n",
       "      <td>b\"Jewish Georgian minister: Thanks to Israeli ...</td>\n",
       "      <td>b'Georgian army flees in disarray as Russians ...</td>\n",
       "      <td>b\"Olympic opening ceremony fireworks 'faked'\"</td>\n",
       "      <td>b'What were the Mossad with fraudulent New Zea...</td>\n",
       "      <td>b'Russia angered by Israeli military sale to G...</td>\n",
       "      <td>b'An American citizen living in S.Ossetia blam...</td>\n",
       "      <td>...</td>\n",
       "      <td>b'Israel and the US behind the Georgian aggres...</td>\n",
       "      <td>b'\"Do not believe TV, neither Russian nor Geor...</td>\n",
       "      <td>b'Riots are still going on in Montreal (Canada...</td>\n",
       "      <td>b'China to overtake US as largest manufacturer'</td>\n",
       "      <td>b'War in South Ossetia [PICS]'</td>\n",
       "      <td>b'Israeli Physicians Group Condemns State Tort...</td>\n",
       "      <td>b' Russia has just beaten the United States ov...</td>\n",
       "      <td>b'Perhaps *the* question about the Georgia - R...</td>\n",
       "      <td>b'Russia is so much better at war'</td>\n",
       "      <td>b\"So this is what it's come to: trading sex fo...</td>\n",
       "    </tr>\n",
       "    <tr>\n",
       "      <th>2</th>\n",
       "      <td>2008-08-12</td>\n",
       "      <td>0</td>\n",
       "      <td>b'Remember that adorable 9-year-old who sang a...</td>\n",
       "      <td>b\"Russia 'ends Georgia operation'\"</td>\n",
       "      <td>b'\"If we had no sexual harassment we would hav...</td>\n",
       "      <td>b\"Al-Qa'eda is losing support in Iraq because ...</td>\n",
       "      <td>b'Ceasefire in Georgia: Putin Outmaneuvers the...</td>\n",
       "      <td>b'Why Microsoft and Intel tried to kill the XO...</td>\n",
       "      <td>b'Stratfor: The Russo-Georgian War and the Bal...</td>\n",
       "      <td>b\"I'm Trying to Get a Sense of This Whole Geor...</td>\n",
       "      <td>...</td>\n",
       "      <td>b'U.S. troops still in Georgia (did you know t...</td>\n",
       "      <td>b'Why Russias response to Georgia was right'</td>\n",
       "      <td>b'Gorbachev accuses U.S. of making a \"serious ...</td>\n",
       "      <td>b'Russia, Georgia, and NATO: Cold War Two'</td>\n",
       "      <td>b'Remember that adorable 62-year-old who led y...</td>\n",
       "      <td>b'War in Georgia: The Israeli connection'</td>\n",
       "      <td>b'All signs point to the US encouraging Georgi...</td>\n",
       "      <td>b'Christopher King argues that the US and NATO...</td>\n",
       "      <td>b'America: The New Mexico?'</td>\n",
       "      <td>b\"BBC NEWS | Asia-Pacific | Extinction 'by man...</td>\n",
       "    </tr>\n",
       "    <tr>\n",
       "      <th>3</th>\n",
       "      <td>2008-08-13</td>\n",
       "      <td>0</td>\n",
       "      <td>b' U.S. refuses Israel weapons to attack Iran:...</td>\n",
       "      <td>b\"When the president ordered to attack Tskhinv...</td>\n",
       "      <td>b' Israel clears troops who killed Reuters cam...</td>\n",
       "      <td>b'Britain\\'s policy of being tough on drugs is...</td>\n",
       "      <td>b'Body of 14 year old found in trunk; Latest (...</td>\n",
       "      <td>b'China has moved 10 *million* quake survivors...</td>\n",
       "      <td>b\"Bush announces Operation Get All Up In Russi...</td>\n",
       "      <td>b'Russian forces sink Georgian ships '</td>\n",
       "      <td>...</td>\n",
       "      <td>b'Elephants extinct by 2020?'</td>\n",
       "      <td>b'US humanitarian missions soon in Georgia - i...</td>\n",
       "      <td>b\"Georgia's DDOS came from US sources\"</td>\n",
       "      <td>b'Russian convoy heads into Georgia, violating...</td>\n",
       "      <td>b'Israeli defence minister: US against strike ...</td>\n",
       "      <td>b'Gorbachev: We Had No Choice'</td>\n",
       "      <td>b'Witness: Russian forces head towards Tbilisi...</td>\n",
       "      <td>b' Quarter of Russians blame U.S. for conflict...</td>\n",
       "      <td>b'Georgian president  says US military will ta...</td>\n",
       "      <td>b'2006: Nobel laureate Aleksander Solzhenitsyn...</td>\n",
       "    </tr>\n",
       "    <tr>\n",
       "      <th>4</th>\n",
       "      <td>2008-08-14</td>\n",
       "      <td>1</td>\n",
       "      <td>b'All the experts admit that we should legalis...</td>\n",
       "      <td>b'War in South Osetia - 89 pictures made by a ...</td>\n",
       "      <td>b'Swedish wrestler Ara Abrahamian throws away ...</td>\n",
       "      <td>b'Russia exaggerated the death toll in South O...</td>\n",
       "      <td>b'Missile That Killed 9 Inside Pakistan May Ha...</td>\n",
       "      <td>b\"Rushdie Condemns Random House's Refusal to P...</td>\n",
       "      <td>b'Poland and US agree to missle defense deal. ...</td>\n",
       "      <td>b'Will the Russians conquer Tblisi? Bet on it,...</td>\n",
       "      <td>...</td>\n",
       "      <td>b'Bank analyst forecast Georgian crisis 2 days...</td>\n",
       "      <td>b\"Georgia confict could set back Russia's US r...</td>\n",
       "      <td>b'War in the Caucasus is as much the product o...</td>\n",
       "      <td>b'\"Non-media\" photos of South Ossetia/Georgia ...</td>\n",
       "      <td>b'Georgian TV reporter shot by Russian sniper ...</td>\n",
       "      <td>b'Saudi Arabia: Mother moves to block child ma...</td>\n",
       "      <td>b'Taliban wages war on humanitarian aid workers'</td>\n",
       "      <td>b'Russia: World  \"can forget about\" Georgia\\'s...</td>\n",
       "      <td>b'Darfur rebels accuse Sudan of mounting major...</td>\n",
       "      <td>b'Philippines : Peace Advocate say Muslims nee...</td>\n",
       "    </tr>\n",
       "  </tbody>\n",
       "</table>\n",
       "<p>5 rows × 27 columns</p>\n",
       "</div>"
      ],
      "text/plain": [
       "         Date  Label                                               Top1  \\\n",
       "0  2008-08-08      0  b\"Georgia 'downs two Russian warplanes' as cou...   \n",
       "1  2008-08-11      1  b'Why wont America and Nato help us? If they w...   \n",
       "2  2008-08-12      0  b'Remember that adorable 9-year-old who sang a...   \n",
       "3  2008-08-13      0  b' U.S. refuses Israel weapons to attack Iran:...   \n",
       "4  2008-08-14      1  b'All the experts admit that we should legalis...   \n",
       "\n",
       "                                                Top2  \\\n",
       "0            b'BREAKING: Musharraf to be impeached.'   \n",
       "1        b'Bush puts foot down on Georgian conflict'   \n",
       "2                 b\"Russia 'ends Georgia operation'\"   \n",
       "3  b\"When the president ordered to attack Tskhinv...   \n",
       "4  b'War in South Osetia - 89 pictures made by a ...   \n",
       "\n",
       "                                                Top3  \\\n",
       "0  b'Russia Today: Columns of troops roll into So...   \n",
       "1  b\"Jewish Georgian minister: Thanks to Israeli ...   \n",
       "2  b'\"If we had no sexual harassment we would hav...   \n",
       "3  b' Israel clears troops who killed Reuters cam...   \n",
       "4  b'Swedish wrestler Ara Abrahamian throws away ...   \n",
       "\n",
       "                                                Top4  \\\n",
       "0  b'Russian tanks are moving towards the capital...   \n",
       "1  b'Georgian army flees in disarray as Russians ...   \n",
       "2  b\"Al-Qa'eda is losing support in Iraq because ...   \n",
       "3  b'Britain\\'s policy of being tough on drugs is...   \n",
       "4  b'Russia exaggerated the death toll in South O...   \n",
       "\n",
       "                                                Top5  \\\n",
       "0  b\"Afghan children raped with 'impunity,' U.N. ...   \n",
       "1      b\"Olympic opening ceremony fireworks 'faked'\"   \n",
       "2  b'Ceasefire in Georgia: Putin Outmaneuvers the...   \n",
       "3  b'Body of 14 year old found in trunk; Latest (...   \n",
       "4  b'Missile That Killed 9 Inside Pakistan May Ha...   \n",
       "\n",
       "                                                Top6  \\\n",
       "0  b'150 Russian tanks have entered South Ossetia...   \n",
       "1  b'What were the Mossad with fraudulent New Zea...   \n",
       "2  b'Why Microsoft and Intel tried to kill the XO...   \n",
       "3  b'China has moved 10 *million* quake survivors...   \n",
       "4  b\"Rushdie Condemns Random House's Refusal to P...   \n",
       "\n",
       "                                                Top7  \\\n",
       "0  b\"Breaking: Georgia invades South Ossetia, Rus...   \n",
       "1  b'Russia angered by Israeli military sale to G...   \n",
       "2  b'Stratfor: The Russo-Georgian War and the Bal...   \n",
       "3  b\"Bush announces Operation Get All Up In Russi...   \n",
       "4  b'Poland and US agree to missle defense deal. ...   \n",
       "\n",
       "                                                Top8  ...  \\\n",
       "0  b\"The 'enemy combatent' trials are nothing but...  ...   \n",
       "1  b'An American citizen living in S.Ossetia blam...  ...   \n",
       "2  b\"I'm Trying to Get a Sense of This Whole Geor...  ...   \n",
       "3             b'Russian forces sink Georgian ships '  ...   \n",
       "4  b'Will the Russians conquer Tblisi? Bet on it,...  ...   \n",
       "\n",
       "                                               Top16  \\\n",
       "0  b'Georgia Invades South Ossetia - if Russia ge...   \n",
       "1  b'Israel and the US behind the Georgian aggres...   \n",
       "2  b'U.S. troops still in Georgia (did you know t...   \n",
       "3                      b'Elephants extinct by 2020?'   \n",
       "4  b'Bank analyst forecast Georgian crisis 2 days...   \n",
       "\n",
       "                                               Top17  \\\n",
       "0                b'Al-Qaeda Faces Islamist Backlash'   \n",
       "1  b'\"Do not believe TV, neither Russian nor Geor...   \n",
       "2       b'Why Russias response to Georgia was right'   \n",
       "3  b'US humanitarian missions soon in Georgia - i...   \n",
       "4  b\"Georgia confict could set back Russia's US r...   \n",
       "\n",
       "                                               Top18  \\\n",
       "0  b'Condoleezza Rice: \"The US would not act to p...   \n",
       "1  b'Riots are still going on in Montreal (Canada...   \n",
       "2  b'Gorbachev accuses U.S. of making a \"serious ...   \n",
       "3             b\"Georgia's DDOS came from US sources\"   \n",
       "4  b'War in the Caucasus is as much the product o...   \n",
       "\n",
       "                                               Top19  \\\n",
       "0  b'This is a busy day:  The European Union has ...   \n",
       "1    b'China to overtake US as largest manufacturer'   \n",
       "2         b'Russia, Georgia, and NATO: Cold War Two'   \n",
       "3  b'Russian convoy heads into Georgia, violating...   \n",
       "4  b'\"Non-media\" photos of South Ossetia/Georgia ...   \n",
       "\n",
       "                                               Top20  \\\n",
       "0  b\"Georgia will withdraw 1,000 soldiers from Ir...   \n",
       "1                     b'War in South Ossetia [PICS]'   \n",
       "2  b'Remember that adorable 62-year-old who led y...   \n",
       "3  b'Israeli defence minister: US against strike ...   \n",
       "4  b'Georgian TV reporter shot by Russian sniper ...   \n",
       "\n",
       "                                               Top21  \\\n",
       "0  b'Why the Pentagon Thinks Attacking Iran is a ...   \n",
       "1  b'Israeli Physicians Group Condemns State Tort...   \n",
       "2          b'War in Georgia: The Israeli connection'   \n",
       "3                     b'Gorbachev: We Had No Choice'   \n",
       "4  b'Saudi Arabia: Mother moves to block child ma...   \n",
       "\n",
       "                                               Top22  \\\n",
       "0  b'Caucasus in crisis: Georgia invades South Os...   \n",
       "1  b' Russia has just beaten the United States ov...   \n",
       "2  b'All signs point to the US encouraging Georgi...   \n",
       "3  b'Witness: Russian forces head towards Tbilisi...   \n",
       "4   b'Taliban wages war on humanitarian aid workers'   \n",
       "\n",
       "                                               Top23  \\\n",
       "0  b'Indian shoe manufactory  - And again in a se...   \n",
       "1  b'Perhaps *the* question about the Georgia - R...   \n",
       "2  b'Christopher King argues that the US and NATO...   \n",
       "3  b' Quarter of Russians blame U.S. for conflict...   \n",
       "4  b'Russia: World  \"can forget about\" Georgia\\'s...   \n",
       "\n",
       "                                               Top24  \\\n",
       "0  b'Visitors Suffering from Mental Illnesses Ban...   \n",
       "1                 b'Russia is so much better at war'   \n",
       "2                        b'America: The New Mexico?'   \n",
       "3  b'Georgian president  says US military will ta...   \n",
       "4  b'Darfur rebels accuse Sudan of mounting major...   \n",
       "\n",
       "                                               Top25  \n",
       "0           b\"No Help for Mexico's Kidnapping Surge\"  \n",
       "1  b\"So this is what it's come to: trading sex fo...  \n",
       "2  b\"BBC NEWS | Asia-Pacific | Extinction 'by man...  \n",
       "3  b'2006: Nobel laureate Aleksander Solzhenitsyn...  \n",
       "4  b'Philippines : Peace Advocate say Muslims nee...  \n",
       "\n",
       "[5 rows x 27 columns]"
      ]
     },
     "execution_count": 2,
     "metadata": {},
     "output_type": "execute_result"
    }
   ],
   "source": [
    "data = pd.read_csv(\"Combined_News_DJIA.csv\")\n",
    "data.head()"
   ]
  },
  {
   "cell_type": "code",
   "execution_count": 3,
   "metadata": {},
   "outputs": [],
   "source": [
    "# print(data.iterrows())"
   ]
  },
  {
   "cell_type": "code",
   "execution_count": 4,
   "metadata": {},
   "outputs": [
    {
     "data": {
      "text/plain": [
       "'Top1'"
      ]
     },
     "execution_count": 4,
     "metadata": {},
     "output_type": "execute_result"
    }
   ],
   "source": [
    "data.columns[2:][0]"
   ]
  },
  {
   "cell_type": "markdown",
   "metadata": {},
   "source": [
    "# Converting the data into X and Y"
   ]
  },
  {
   "cell_type": "code",
   "execution_count": 10,
   "metadata": {},
   "outputs": [],
   "source": [
    "x = []\n",
    "y = []\n",
    "for i in data.iterrows():\n",
    "    text = \"\"\n",
    "    y.append(i[1]['Label'])\n",
    "    for j in data.columns[2:]:\n",
    "        if type(i[1][j]) != str and type(i[1][j]) != object:\n",
    "            continue\n",
    "        text += i[1][j][1:] + \" \"\n",
    "    x.append(text)"
   ]
  },
  {
   "cell_type": "code",
   "execution_count": 11,
   "metadata": {},
   "outputs": [
    {
     "name": "stdout",
     "output_type": "stream",
     "text": [
      "(1989,) (1989,)\n",
      "\"Georgia 'downs two Russian warplanes' as countries move to brink of war\" 'BREAKING: Musharraf to be impeached.' 'Russia Today: Columns of troops roll into South Ossetia; footage from fighting (YouTube)' 'Russian tanks are moving towards the capital of South Ossetia, which has reportedly been completely destroyed by Georgian artillery fire' \"Afghan children raped with 'impunity,' U.N. official says - this is sick, a three year old was raped and they do nothing\" '150 Russian tanks have entered South Ossetia whilst Georgia shoots down two Russian jets.' \"Breaking: Georgia invades South Ossetia, Russia warned it would intervene on SO's side\" \"The 'enemy combatent' trials are nothing but a sham: Salim Haman has been sentenced to 5 1/2 years, but will be kept longer anyway just because they feel like it.\" 'Georgian troops retreat from S. Osettain capital, presumably leaving several hundred people killed. [VIDEO]' 'Did the U.S. Prep Georgia for War with Russia?' 'Rice Gives Green Light for Israel to Attack Iran: Says U.S. has no veto over Israeli military ops' 'Announcing:Class Action Lawsuit on Behalf of American Public Against the FBI' \"So---Russia and Georgia are at war and the NYT's top story is opening ceremonies of the Olympics?  What a fucking disgrace and yet further proof of the decline of journalism.\" \"China tells Bush to stay out of other countries' affairs\" 'Did World War III start today?' 'Georgia Invades South Ossetia - if Russia gets involved, will NATO absorb Georgia and unleash a full scale war?' 'Al-Qaeda Faces Islamist Backlash' 'Condoleezza Rice: \"The US would not act to prevent an Israeli strike on Iran.\" Israeli Defense Minister Ehud Barak: \"Israel is prepared for uncompromising victory in the case of military hostilities.\"' 'This is a busy day:  The European Union has approved new sanctions against Iran in protest at its nuclear programme.' \"Georgia will withdraw 1,000 soldiers from Iraq to help fight off Russian forces in Georgia's breakaway region of South Ossetia\" 'Why the Pentagon Thinks Attacking Iran is a Bad Idea - US News &amp; World Report' 'Caucasus in crisis: Georgia invades South Ossetia' 'Indian shoe manufactory  - And again in a series of \"you do not like your work?\"' 'Visitors Suffering from Mental Illnesses Banned from Olympics' \"No Help for Mexico's Kidnapping Surge\" \n",
      "0\n"
     ]
    }
   ],
   "source": [
    "x = np.array(x)\n",
    "y = np.array(y)\n",
    "print(x.shape, y.shape)\n",
    "print(x[0])\n",
    "print(y[0])"
   ]
  },
  {
   "cell_type": "markdown",
   "metadata": {},
   "source": [
    "# Preprocessing Text"
   ]
  },
  {
   "cell_type": "code",
   "execution_count": 12,
   "metadata": {},
   "outputs": [],
   "source": [
    "wnl = WordNetLemmatizer()"
   ]
  },
  {
   "cell_type": "code",
   "execution_count": 14,
   "metadata": {},
   "outputs": [
    {
     "name": "stdout",
     "output_type": "stream",
     "text": [
      "Georgia 'downs two Russian warplanes' as countries move to brink of war\" 'BREAKING: Musharraf to be impeached.' 'Russia Today: Columns of troops roll into South Ossetia; footage from fighting (YouTube)' 'Russian tanks are moving towards the capital of South Ossetia, which has reportedly been completely destroyed by Georgian artillery fire' \"Afghan children raped with 'impunity,' U.N. official says - this is sick, a three year old was raped and they do nothing\" '150 Russian tanks have entered South Ossetia whilst Georgia shoots down two Russian jets.' \"Breaking: Georgia invades South Ossetia, Russia warned it would intervene on SO's side\" \"The 'enemy combatent' trials are nothing but a sham: Salim Haman has been sentenced to 5 1/2 years, but will be kept longer anyway just because they feel like it.\" 'Georgian troops retreat from S. Osettain capital, presumably leaving several hundred people killed. [VIDEO]' 'Did the U.S. Prep Georgia for War with Russia?' 'Rice Gives Green Light for Israel to Attack Iran: Says U.S. has no veto over Israeli military ops' 'Announcing:Class Action Lawsuit on Behalf of American Public Against the FBI' \"So---Russia and Georgia are at war and the NYT's top story is opening ceremonies of the Olympics?  What a fucking disgrace and yet further proof of the decline of journalism.\" \"China tells Bush to stay out of other countries' affairs\" 'Did World War III start today?' 'Georgia Invades South Ossetia - if Russia gets involved, will NATO absorb Georgia and unleash a full scale war?' 'Al-Qaeda Faces Islamist Backlash' 'Condoleezza Rice: \"The US would not act to prevent an Israeli strike on Iran.\" Israeli Defense Minister Ehud Barak: \"Israel is prepared for uncompromising victory in the case of military hostilities.\"' 'This is a busy day:  The European Union has approved new sanctions against Iran in protest at its nuclear programme.' \"Georgia will withdraw 1,000 soldiers from Iraq to help fight off Russian forces in Georgia's breakaway region of South Ossetia\" 'Why the Pentagon Thinks Attacking Iran is a Bad Idea - US News &amp; World Report' 'Caucasus in crisis: Georgia invades South Ossetia' 'Indian shoe manufactory  - And again in a series of \"you do not like your work?\"' 'Visitors Suffering from Mental Illnesses Banned from Olympics' \"No Help for Mexico's Kidnapping Surge\" \n"
     ]
    }
   ],
   "source": [
    "print(x[0][1:])"
   ]
  },
  {
   "cell_type": "code",
   "execution_count": 15,
   "metadata": {},
   "outputs": [
    {
     "name": "stderr",
     "output_type": "stream",
     "text": [
      "100%|██████████| 1989/1989 [02:45<00:00, 12.03it/s]\n"
     ]
    }
   ],
   "source": [
    "for i in tqdm(range(len(x))):\n",
    "    text = x[i][1:]\n",
    "    text = text.lower()\n",
    "    text = [j for j in text if j not in string.punctuation]\n",
    "    text = ''.join(text)\n",
    "    text = re.sub(r\"[^a-zA-Z]\", ' ', text)\n",
    "    text = re.sub(r\"\\s+\", ' ', text)\n",
    "    text = [wnl.lemmatize(word) for word in text.split() if word not in stopwords.words(\"english\")]\n",
    "    text = ' '.join(text)\n",
    "    x[i] = text"
   ]
  },
  {
   "cell_type": "code",
   "execution_count": 16,
   "metadata": {},
   "outputs": [
    {
     "name": "stdout",
     "output_type": "stream",
     "text": [
      "georgia down two russian warplane country move brink war breaking musharraf impeached russia today column troop roll south ossetia footage fighting youtube russian tank moving towards capital south ossetia reportedly completely destroyed georgian artillery fire afghan child raped impunity un official say sick three year old raped nothing russian tank entered south ossetia whilst georgia shoot two russian jet breaking georgia invades south ossetia russia warned would intervene so side enemy combatent trial nothing sham salim haman sentenced year kept longer anyway feel like georgian troop retreat osettain capital presumably leaving several hundred people killed video u prep georgia war russia rice give green light israel attack iran say u veto israeli military ops announcingclass action lawsuit behalf american public fbi sorussia georgia war nyts top story opening ceremony olympics fucking disgrace yet proof decline journalism china tell bush stay country affair world war iii start today georgia invades south ossetia russia get involved nato absorb georgia unleash full scale war alqaeda face islamist backlash condoleezza rice u would act prevent israeli strike iran israeli defense minister ehud barak israel prepared uncompromising victory case military hostility busy day european union approved new sanction iran protest nuclear programme georgia withdraw soldier iraq help fight russian force georgia breakaway region south ossetia pentagon think attacking iran bad idea u news amp world report caucasus crisis georgia invades south ossetia indian shoe manufactory series like work visitor suffering mental illness banned olympics help mexico kidnapping surge\n"
     ]
    }
   ],
   "source": [
    "print(x[0])"
   ]
  },
  {
   "cell_type": "markdown",
   "metadata": {},
   "source": [
    "# Bag of Words"
   ]
  },
  {
   "cell_type": "code",
   "execution_count": 50,
   "metadata": {},
   "outputs": [],
   "source": [
    "bow = CountVectorizer(max_features=50000)\n",
    "bow_corpus = bow.fit_transform(x).toarray()\n",
    "x1 = bow_corpus\n",
    "y1 = y\n",
    "x_train1, x_test1, y_train1, y_test1 = train_test_split(x1, y1, test_size=0.20, random_state=42, shuffle=True)\n",
    "class_weights1 = compute_class_weight('balanced', classes=np.unique(y_train1), y=y_train1)"
   ]
  },
  {
   "cell_type": "code",
   "execution_count": 52,
   "metadata": {},
   "outputs": [
    {
     "name": "stdout",
     "output_type": "stream",
     "text": [
      "[1.0564409  0.94928401]\n"
     ]
    }
   ],
   "source": [
    "print(class_weights1)"
   ]
  },
  {
   "cell_type": "code",
   "execution_count": 53,
   "metadata": {},
   "outputs": [
    {
     "name": "stdout",
     "output_type": "stream",
     "text": [
      "[SVC(class_weight={0: 1.0564409030544488, 1: 0.9492840095465394}), LogisticRegression(class_weight={0: 1.0564409030544488, 1: 0.9492840095465394}), DecisionTreeClassifier(class_weight={0: 1.0564409030544488,\n",
      "                                     1: 0.9492840095465394}), RandomForestClassifier(class_weight={0: 1.0564409030544488,\n",
      "                                     1: 0.9492840095465394})]\n"
     ]
    }
   ],
   "source": [
    "model_bow1 = SVC(class_weight=dict(zip(np.unique(y_train1), class_weights1)))\n",
    "model_bow2 = LogisticRegression(class_weight=dict(zip(np.unique(y_train1), class_weights1)))\n",
    "model_bow3 = DecisionTreeClassifier(class_weight=dict(zip(np.unique(y_train1), class_weights1)))\n",
    "model_bow4 = RandomForestClassifier(class_weight=dict(zip(np.unique(y_train1), class_weights1)))\n",
    "\n",
    "models1 = [model_bow1, model_bow2, model_bow3, model_bow4]\n",
    "\n",
    "models1 = Parallel(n_jobs=-1)(delayed(models1[i].fit)(x_train1, y_train1) for i in range(len(models1)))\n",
    "print(models1)"
   ]
  },
  {
   "cell_type": "code",
   "execution_count": 54,
   "metadata": {},
   "outputs": [
    {
     "name": "stdout",
     "output_type": "stream",
     "text": [
      "Accuracy SVM:  0.535175879396985\n",
      "Accuracy MNB:  0.5050251256281407\n",
      "Accuracy DT:  0.49246231155778897\n",
      "Accuracy RF:  0.5150753768844221\n"
     ]
    }
   ],
   "source": [
    "predictions1 = Parallel(n_jobs=-1)(delayed(models1[i].predict)(x_test1) for i in range(len(models1)))\n",
    "print(\"Accuracy SVM: \", accuracy_score(predictions1[0], y_test1))\n",
    "print(\"Accuracy LR: \", accuracy_score(predictions1[1], y_test1))\n",
    "print(\"Accuracy DT: \", accuracy_score(predictions1[2], y_test1))\n",
    "print(\"Accuracy RF: \", accuracy_score(predictions1[3], y_test1))"
   ]
  },
  {
   "cell_type": "markdown",
   "metadata": {},
   "source": [
    "# TFIDF"
   ]
  },
  {
   "cell_type": "code",
   "execution_count": 55,
   "metadata": {},
   "outputs": [],
   "source": [
    "tfidf = TfidfVectorizer(max_features=50000)\n",
    "tfidf_corpus = tfidf.fit_transform(x).toarray()\n",
    "x2 = tfidf_corpus\n",
    "y2 = y\n",
    "x_train2, x_test2, y_train2, y_test2 = train_test_split(x2, y2, test_size=0.20, random_state=42, shuffle=True)\n",
    "class_weights2 = compute_class_weight('balanced', classes=np.unique(y_train2), y=y_train2)"
   ]
  },
  {
   "cell_type": "code",
   "execution_count": 57,
   "metadata": {},
   "outputs": [
    {
     "name": "stdout",
     "output_type": "stream",
     "text": [
      "[SVC(class_weight={0: 1.0564409030544488, 1: 0.9492840095465394}), LogisticRegression(class_weight={0: 1.0564409030544488, 1: 0.9492840095465394}), DecisionTreeClassifier(class_weight={0: 1.0564409030544488,\n",
      "                                     1: 0.9492840095465394}), RandomForestClassifier(class_weight={0: 1.0564409030544488,\n",
      "                                     1: 0.9492840095465394})]\n"
     ]
    }
   ],
   "source": [
    "model_tfidf1 = SVC(class_weight=dict(zip(np.unique(y_train2), class_weights2)))\n",
    "model_tfidf2 = LogisticRegression(class_weight=dict(zip(np.unique(y_train2), class_weights2)))\n",
    "model_tfidf3 = DecisionTreeClassifier(class_weight=dict(zip(np.unique(y_train2), class_weights2)))\n",
    "model_tfidf4 = RandomForestClassifier(class_weight=dict(zip(np.unique(y_train2), class_weights2)))\n",
    "\n",
    "models2 = [model_tfidf1, model_tfidf2, model_tfidf3, model_tfidf4]\n",
    "\n",
    "models2 = Parallel(n_jobs=-1)(delayed(models2[i].fit)(x_train2, y_train2) for i in range(len(models2)))\n",
    "print(models2)"
   ]
  },
  {
   "cell_type": "code",
   "execution_count": 58,
   "metadata": {},
   "outputs": [
    {
     "name": "stdout",
     "output_type": "stream",
     "text": [
      "Accuracy SVM:  0.535175879396985\n",
      "Accuracy LR:  0.5100502512562815\n",
      "Accuracy DT:  0.4723618090452261\n",
      "Accuracy RF:  0.5527638190954773\n"
     ]
    }
   ],
   "source": [
    "predictions2 = Parallel(n_jobs=-1)(delayed(models2[i].predict)(x_test2) for i in range(len(models2)))\n",
    "print(\"Accuracy SVM: \", accuracy_score(predictions2[0], y_test2))\n",
    "print(\"Accuracy LR: \", accuracy_score(predictions2[1], y_test2))\n",
    "print(\"Accuracy DT: \", accuracy_score(predictions2[2], y_test2))\n",
    "print(\"Accuracy RF: \", accuracy_score(predictions2[3], y_test2))"
   ]
  },
  {
   "cell_type": "markdown",
   "metadata": {},
   "source": [
    "# Word2Vec"
   ]
  },
  {
   "cell_type": "code",
   "execution_count": 59,
   "metadata": {},
   "outputs": [
    {
     "name": "stdout",
     "output_type": "stream",
     "text": [
      "1989\n",
      "['georgia', 'down', 'two', 'russian', 'warplane', 'country', 'move', 'brink', 'war', 'breaking', 'musharraf', 'impeached', 'russia', 'today', 'column', 'troop', 'roll', 'south', 'ossetia', 'footage', 'fighting', 'youtube', 'russian', 'tank', 'moving', 'towards', 'capital', 'south', 'ossetia', 'reportedly', 'completely', 'destroyed', 'georgian', 'artillery', 'fire', 'afghan', 'child', 'raped', 'impunity', 'un', 'official', 'say', 'sick', 'three', 'year', 'old', 'raped', 'nothing', 'russian', 'tank', 'entered', 'south', 'ossetia', 'whilst', 'georgia', 'shoot', 'two', 'russian', 'jet', 'breaking', 'georgia', 'invades', 'south', 'ossetia', 'russia', 'warned', 'would', 'intervene', 'so', 'side', 'enemy', 'combatent', 'trial', 'nothing', 'sham', 'salim', 'haman', 'sentenced', 'year', 'kept', 'longer', 'anyway', 'feel', 'like', 'georgian', 'troop', 'retreat', 'osettain', 'capital', 'presumably', 'leaving', 'several', 'hundred', 'people', 'killed', 'video', 'u', 'prep', 'georgia', 'war', 'russia', 'rice', 'give', 'green', 'light', 'israel', 'attack', 'iran', 'say', 'u', 'veto', 'israeli', 'military', 'ops', 'announcingclass', 'action', 'lawsuit', 'behalf', 'american', 'public', 'fbi', 'sorussia', 'georgia', 'war', 'nyts', 'top', 'story', 'opening', 'ceremony', 'olympics', 'fucking', 'disgrace', 'yet', 'proof', 'decline', 'journalism', 'china', 'tell', 'bush', 'stay', 'country', 'affair', 'world', 'war', 'iii', 'start', 'today', 'georgia', 'invades', 'south', 'ossetia', 'russia', 'get', 'involved', 'nato', 'absorb', 'georgia', 'unleash', 'full', 'scale', 'war', 'alqaeda', 'face', 'islamist', 'backlash', 'condoleezza', 'rice', 'u', 'would', 'act', 'prevent', 'israeli', 'strike', 'iran', 'israeli', 'defense', 'minister', 'ehud', 'barak', 'israel', 'prepared', 'uncompromising', 'victory', 'case', 'military', 'hostility', 'busy', 'day', 'european', 'union', 'approved', 'new', 'sanction', 'iran', 'protest', 'nuclear', 'programme', 'georgia', 'withdraw', 'soldier', 'iraq', 'help', 'fight', 'russian', 'force', 'georgia', 'breakaway', 'region', 'south', 'ossetia', 'pentagon', 'think', 'attacking', 'iran', 'bad', 'idea', 'u', 'news', 'amp', 'world', 'report', 'caucasus', 'crisis', 'georgia', 'invades', 'south', 'ossetia', 'indian', 'shoe', 'manufactory', 'series', 'like', 'work', 'visitor', 'suffering', 'mental', 'illness', 'banned', 'olympics', 'help', 'mexico', 'kidnapping', 'surge']\n"
     ]
    }
   ],
   "source": [
    "w2v_corpus = []\n",
    "# print(type(x[0]))\n",
    "for i in x:\n",
    "    words = []\n",
    "    for word in i.split():\n",
    "        words.append(word)\n",
    "    w2v_corpus.append(words)\n",
    "print(len(w2v_corpus))\n",
    "print(w2v_corpus[0])"
   ]
  },
  {
   "cell_type": "code",
   "execution_count": 60,
   "metadata": {},
   "outputs": [],
   "source": [
    "w2v = Word2Vec(w2v_corpus, vector_size = 500)\n",
    "# w2v.wv['georgia']"
   ]
  },
  {
   "cell_type": "code",
   "execution_count": 61,
   "metadata": {},
   "outputs": [
    {
     "name": "stderr",
     "output_type": "stream",
     "text": [
      "  0%|          | 0/1989 [00:00<?, ?it/s]100%|██████████| 1989/1989 [00:03<00:00, 499.61it/s]\n"
     ]
    }
   ],
   "source": [
    "document_embeddings = []\n",
    "for paragraph in tqdm(x):\n",
    "    tokenized_paragraph = nltk.word_tokenize(paragraph.lower())\n",
    "    paragraph_embedding = np.mean([w2v.wv[word] for word in tokenized_paragraph if word in w2v.wv], axis=0)\n",
    "    document_embeddings.append(paragraph_embedding)\n",
    "\n",
    "x_train3, x_test3, y_train3, y_test3 = train_test_split(document_embeddings, y, test_size=0.2, random_state=42)"
   ]
  },
  {
   "cell_type": "code",
   "execution_count": 62,
   "metadata": {},
   "outputs": [],
   "source": [
    "# print(len(document_embeddings[0]))\n",
    "class_weights3 = compute_class_weight('balanced', classes=np.unique(y_train3), y=y_train3)"
   ]
  },
  {
   "cell_type": "code",
   "execution_count": 63,
   "metadata": {},
   "outputs": [
    {
     "name": "stdout",
     "output_type": "stream",
     "text": [
      "[SVC(class_weight={0: 1.0564409030544488, 1: 0.9492840095465394}), LogisticRegression(class_weight={0: 1.0564409030544488, 1: 0.9492840095465394}), DecisionTreeClassifier(class_weight={0: 1.0564409030544488,\n",
      "                                     1: 0.9492840095465394}), RandomForestClassifier(class_weight={0: 1.0564409030544488,\n",
      "                                     1: 0.9492840095465394})]\n"
     ]
    }
   ],
   "source": [
    "model_w2v1 = SVC(class_weight=dict(zip(np.unique(y_train3), class_weights3)))\n",
    "model_w2v2 = LogisticRegression(class_weight=dict(zip(np.unique(y_train3), class_weights3)))\n",
    "model_w2v3 = DecisionTreeClassifier(class_weight=dict(zip(np.unique(y_train3), class_weights3)))\n",
    "model_w2v4 = RandomForestClassifier(class_weight=dict(zip(np.unique(y_train3), class_weights3)))\n",
    "\n",
    "models3 = [model_w2v1, model_w2v2, model_w2v3, model_w2v4]\n",
    "\n",
    "models3 = Parallel(n_jobs=-1)(delayed(models3[i].fit)(x_train3, y_train3) for i in range(len(models3)))\n",
    "print(models3)"
   ]
  },
  {
   "cell_type": "code",
   "execution_count": 64,
   "metadata": {},
   "outputs": [
    {
     "name": "stdout",
     "output_type": "stream",
     "text": [
      "Accuracy SVM:  0.5050251256281407\n",
      "Accuracy MNB:  0.5201005025125628\n",
      "Accuracy DT:  0.48743718592964824\n",
      "Accuracy RF:  0.5577889447236181\n"
     ]
    }
   ],
   "source": [
    "predictions3 = Parallel(n_jobs=-1)(delayed(models3[i].predict)(x_test3) for i in range(len(models3)))\n",
    "print(\"Accuracy SVM: \", accuracy_score(predictions3[0], y_test3))\n",
    "print(\"Accuracy MNB: \", accuracy_score(predictions3[1], y_test3))\n",
    "print(\"Accuracy DT: \", accuracy_score(predictions3[2], y_test3))\n",
    "print(\"Accuracy RF: \", accuracy_score(predictions3[3], y_test3))"
   ]
  },
  {
   "cell_type": "code",
   "execution_count": null,
   "metadata": {},
   "outputs": [],
   "source": []
  }
 ],
 "metadata": {
  "kernelspec": {
   "display_name": "Python 3 (ipykernel)",
   "language": "python",
   "name": "python3"
  },
  "language_info": {
   "codemirror_mode": {
    "name": "ipython",
    "version": 3
   },
   "file_extension": ".py",
   "mimetype": "text/x-python",
   "name": "python",
   "nbconvert_exporter": "python",
   "pygments_lexer": "ipython3",
   "version": "3.9.12"
  }
 },
 "nbformat": 4,
 "nbformat_minor": 2
}
